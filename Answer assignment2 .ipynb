{
 "cells": [
  {
   "cell_type": "markdown",
   "metadata": {
    "id": "9NXyYtIAQuIG"
   },
   "source": [
    "# Python program to interchange first and last elements in a list\n"
   ]
  },
  {
   "cell_type": "markdown",
   "metadata": {
    "id": "Y8j1uUT8Q6Xf"
   },
   "source": [
    "- Examples\n",
    "\n",
    "- Input : [12, 35, 9, 56, 24]\n",
    "- Output : [24, 35, 9, 56, 12]\n",
    "\n",
    "- Input : [1, 2, 3]\n",
    "- Output : [3, 2, 1]"
   ]
  },
  {
   "cell_type": "code",
   "execution_count": 1,
   "metadata": {},
   "outputs": [
    {
     "data": {
      "text/plain": [
       "[24, 35, 9, 56, 12]"
      ]
     },
     "execution_count": 1,
     "metadata": {},
     "output_type": "execute_result"
    }
   ],
   "source": [
    "x=[12,35,9,56,24]\n",
    "x[0],x[-1]=x[-1],x[0]\n",
    "x"
   ]
  },
  {
   "cell_type": "markdown",
   "metadata": {
    "id": "h-yd-gv7RnYW"
   },
   "source": [
    "### Find the Length of a List in Python\n",
    "\n"
   ]
  },
  {
   "cell_type": "markdown",
   "metadata": {
    "id": "AapkQMkGRqqg"
   },
   "source": [
    "- Input: lst = [10,20,30,40]\n",
    "- Output: 4\n",
    "- Explanation: The output is 4 because thelength of the list is  4."
   ]
  },
  {
   "cell_type": "code",
   "execution_count": 3,
   "metadata": {},
   "outputs": [
    {
     "data": {
      "text/plain": [
       "4"
      ]
     },
     "execution_count": 3,
     "metadata": {},
     "output_type": "execute_result"
    }
   ],
   "source": [
    "lst=[10,20,30,40]\n",
    "len(lst)"
   ]
  },
  {
   "cell_type": "markdown",
   "metadata": {
    "id": "Y-XZTe1ES7pJ"
   },
   "source": [
    "### Python | Find elements of a list by indices\n",
    "- Input : lst1 = [10, 20, 30, 40, 50]\n",
    "-        lst2 = [0, 2, 4]\n",
    "- Output : [10, 30, 50]"
   ]
  },
  {
   "cell_type": "code",
   "execution_count": 7,
   "metadata": {},
   "outputs": [
    {
     "name": "stdout",
     "output_type": "stream",
     "text": [
      "[10, 30, 50]\n"
     ]
    }
   ],
   "source": [
    "ls1=[10,20,30,40,50]\n",
    "ls2=[0,2,4]\n",
    "print(ls1[ls2[0] : ls2[-1]+1 : ls2[1]-ls2[0]])"
   ]
  },
  {
   "cell_type": "markdown",
   "metadata": {
    "id": "3fmiplSXTmN-"
   },
   "source": [
    "# Python program to find the String in a List\n"
   ]
  },
  {
   "cell_type": "markdown",
   "metadata": {
    "id": "0HdTN1z3TpYH"
   },
   "source": [
    "- Input: l=[1, 1.0, 'have', 'a', 'geeky', 'day']; s='geeky'\n",
    "- Output: True\n",
    "- Explanation: geeky is present in the input list"
   ]
  },
  {
   "cell_type": "markdown",
   "metadata": {
    "id": "PID_7zUJT-HU"
   },
   "source": [
    "\n",
    "\n",
    "```\n",
    "#  hint you can use in\n",
    "```\n",
    "\n",
    "- The in keyword is used to check if a value is present in a sequence (list, range, string etc.).\n",
    "\n"
   ]
  },
  {
   "cell_type": "code",
   "execution_count": 9,
   "metadata": {
    "id": "folb7eDqUXwk"
   },
   "outputs": [
    {
     "data": {
      "text/plain": [
       "True"
      ]
     },
     "execution_count": 9,
     "metadata": {},
     "output_type": "execute_result"
    }
   ],
   "source": [
    "fruits = [\"apple\", \"banana\", \"cherry\"]\n",
    "print(\"banana\" in fruits)"
   ]
  },
  {
   "cell_type": "markdown",
   "metadata": {
    "id": "WI5-sy7eU9Gm"
   },
   "source": [
    "## Ways to find indices of value in list\n",
    "\n",
    "\n",
    "- list of animals\n",
    "- Animals= [\"cat\", \"dog\", \"tiger\"]\n",
    "- searching positiion of dog\n",
    "- output is 1"
   ]
  },
  {
   "cell_type": "code",
   "execution_count": 17,
   "metadata": {},
   "outputs": [
    {
     "name": "stdout",
     "output_type": "stream",
     "text": [
      "2\n"
     ]
    }
   ],
   "source": [
    "Animals= [\"cat\", \"dog\", \"tiger\"]\n",
    "print(Animals.index(\"tiger\"))"
   ]
  },
  {
   "cell_type": "markdown",
   "metadata": {
    "id": "-WY6GZpgVjs-"
   },
   "source": [
    "### Find most frequent element in a list\n",
    "- Input : [2, 1, 2, 2, 1, 3]\n",
    "- Output : 2\n",
    "\n",
    "- Input : ['Dog', 'Cat', 'Dog']\n",
    "- Output : Dog"
   ]
  },
  {
   "cell_type": "markdown",
   "metadata": {
    "id": "iplk5uDKfiye"
   },
   "source": [
    "- hint you can use max in python"
   ]
  },
  {
   "cell_type": "code",
   "execution_count": 35,
   "metadata": {},
   "outputs": [
    {
     "name": "stdout",
     "output_type": "stream",
     "text": [
      "the most frequent element in a list is 2 and the number of frequency is 3 \n"
     ]
    }
   ],
   "source": [
    "lst=[2, 1, 2, 2, 1, 3]\n",
    "set_lst=set(lst)\n",
    "lst_set=list(set_lst)\n",
    "counter_lst=[]\n",
    "for i in lst_set:\n",
    "    counter_lst.append(lst.count(i))\n",
    "m_f=lst_set[counter_lst.index(max(counter_lst))]\n",
    "print(f\"the most frequent element in a list is {m_f} and the number of frequency is {max(counter_lst)} \")"
   ]
  },
  {
   "cell_type": "markdown",
   "metadata": {
    "id": "-vF6f8UQZIgq"
   },
   "source": [
    "## Remove an Item from the List in Python.\n",
    "- Input: ['Rose',' Lily', 'Lotus', 'Sun', 'Sunflower']\n",
    "- Delete: 'Sun'\n",
    "- Output: ['Rose',' Lily', 'Lotus', 'Sunflower']\n",
    "- Explanation: In this, we have removed the 'Sun' element from the given list"
   ]
  },
  {
   "cell_type": "code",
   "execution_count": 39,
   "metadata": {},
   "outputs": [
    {
     "data": {
      "text/plain": [
       "['Rose', ' Lily', 'Lotus', 'Sunflower']"
      ]
     },
     "execution_count": 39,
     "metadata": {},
     "output_type": "execute_result"
    }
   ],
   "source": [
    "lst= ['Rose',' Lily', 'Lotus', 'Sun', 'Sunflower']\n",
    "lst.remove(\"Sun\")\n",
    "lst"
   ]
  },
  {
   "cell_type": "markdown",
   "metadata": {
    "id": "l_YTnBftZe7V"
   },
   "source": [
    "# Remove multiple elements from a list in Python\n",
    "- Input: [12, 15, 3, 10]\n",
    "- Output: Remove = [12, 3], New_List = [15, 10]\n",
    "\n",
    "- Input: [11, 5, 17, 18, 23, 50]\n",
    "- Output: Remove = [1:5], New_list = [11, 50]"
   ]
  },
  {
   "cell_type": "code",
   "execution_count": 47,
   "metadata": {},
   "outputs": [
    {
     "name": "stdout",
     "output_type": "stream",
     "text": [
      "[15, 10]\n",
      "[11, 50]\n"
     ]
    }
   ],
   "source": [
    "lst= [12, 15, 3, 10]\n",
    "del lst[::2]\n",
    "print(lst)\n",
    "lst=[11, 5, 17, 18, 23, 50]\n",
    "del lst[1:5]\n",
    "print(lst)"
   ]
  },
  {
   "cell_type": "markdown",
   "metadata": {
    "id": "yYoINEUvcG4-"
   },
   "source": [
    "# python program to check whether the string is Palindrome  and get the str from user"
   ]
  },
  {
   "cell_type": "markdown",
   "metadata": {
    "id": "ARhC7ZL6cvjO"
   },
   "source": [
    "- Input : malayalam\n",
    "- Output : True\n",
    "\n",
    "- Input : geeks\n",
    "- Output : False"
   ]
  },
  {
   "cell_type": "code",
   "execution_count": 65,
   "metadata": {},
   "outputs": [
    {
     "name": "stdin",
     "output_type": "stream",
     "text": [
      "enter your word wawawawaw\n"
     ]
    },
    {
     "name": "stdout",
     "output_type": "stream",
     "text": [
      "True\n"
     ]
    }
   ],
   "source": [
    "x=input(\"enter your word\")\n",
    "y=list(x)\n",
    "y.reverse()\n",
    "y=\"\".join(y)\n",
    "print(x==y)\n"
   ]
  },
  {
   "cell_type": "markdown",
   "metadata": {
    "id": "_EYlmszadOww"
   },
   "source": [
    "### Reverse Words in a Given String in Python\n",
    "- Input : str =\" geeks quiz practice code\"\n",
    "- Output : str = code practice quiz geeks  \n",
    "- Input : str = \"my name is laxmi\"\n",
    "- output : str= laxmi is name my"
   ]
  },
  {
   "cell_type": "code",
   "execution_count": 71,
   "metadata": {},
   "outputs": [
    {
     "data": {
      "text/plain": [
       "'code practice quiz geeks'"
      ]
     },
     "execution_count": 71,
     "metadata": {},
     "output_type": "execute_result"
    }
   ],
   "source": [
    "my_str=\" geeks quiz practice code\"\n",
    "my_str=my_str.split()\n",
    "my_str.reverse()\n",
    "my_str=\" \".join(my_str)\n",
    "my_str"
   ]
  },
  {
   "cell_type": "markdown",
   "metadata": {
    "id": "242TCJPleCof"
   },
   "source": [
    "### Find length of a string in python\n",
    "- Input : 'abc'\n",
    "- Output : 3\n",
    "\n",
    "- Input : 'hello world !'\n",
    "- Output : 13\n",
    "\n",
    "- Input : ' h e l   l  o '\n",
    "- Output :14"
   ]
  },
  {
   "cell_type": "code",
   "execution_count": 73,
   "metadata": {},
   "outputs": [
    {
     "name": "stdout",
     "output_type": "stream",
     "text": [
      "13\n"
     ]
    }
   ],
   "source": [
    "x=\"hello world !\"\n",
    "print(len(x))"
   ]
  },
  {
   "cell_type": "markdown",
   "metadata": {
    "id": "rE_STqG_fFJs"
   },
   "source": [
    "###  Avoid Spaces in string length\n",
    "\n",
    "\n",
    "```\n",
    "- string = \"Hello, world!  \"\n",
    "- with space 15\n",
    "- without space is 12\n",
    "```\n",
    "\n",
    "\n"
   ]
  },
  {
   "cell_type": "markdown",
   "metadata": {
    "id": "zRnIlNqSf3ni"
   },
   "source": [
    "-  hint you can use len in python to get len of str or list"
   ]
  },
  {
   "cell_type": "code",
   "execution_count": 75,
   "metadata": {},
   "outputs": [
    {
     "name": "stdout",
     "output_type": "stream",
     "text": [
      "length of string with spaces is 15 \n",
      "length of string without spaces is 12 \n"
     ]
    }
   ],
   "source": [
    "my_str=\"Hello, world!  \"\n",
    "spaces=my_str.count(\" \")\n",
    "print(f\"length of string with spaces is {len(my_str)} \")\n",
    "print(f\"length of string without spaces is {len(my_str)-spaces} \")"
   ]
  },
  {
   "cell_type": "markdown",
   "metadata": {
    "id": "FebQFluegBW2"
   },
   "source": [
    "# Smallest Length String in the list\n",
    "- test_list = ['gfg', 'is', 'best', 'for', 'geeks']\n",
    "- Minimum length string is : is\n"
   ]
  },
  {
   "cell_type": "markdown",
   "metadata": {
    "id": "Nn_2JLRJgZ3h"
   },
   "source": [
    "-  hint you can use min in python"
   ]
  },
  {
   "cell_type": "code",
   "execution_count": 90,
   "metadata": {},
   "outputs": [
    {
     "name": "stdout",
     "output_type": "stream",
     "text": [
      "the minimum length string is : is\n"
     ]
    }
   ],
   "source": [
    "test_list = ['gfg', 'is', 'best', 'for', 'geeks']\n",
    "counter_lst=[]\n",
    "for i in test_list:\n",
    "    counter_lst.append(len(i))\n",
    "x=test_list[counter_lst.index(min(counter_lst))] \n",
    "print(f\"the minimum length string is : {x}\")"
   ]
  },
  {
   "cell_type": "code",
   "execution_count": null,
   "metadata": {},
   "outputs": [],
   "source": []
  }
 ],
 "metadata": {
  "colab": {
   "private_outputs": true,
   "provenance": []
  },
  "kernelspec": {
   "display_name": "Python 3 (ipykernel)",
   "language": "python",
   "name": "python3"
  },
  "language_info": {
   "codemirror_mode": {
    "name": "ipython",
    "version": 3
   },
   "file_extension": ".py",
   "mimetype": "text/x-python",
   "name": "python",
   "nbconvert_exporter": "python",
   "pygments_lexer": "ipython3",
   "version": "3.12.4"
  }
 },
 "nbformat": 4,
 "nbformat_minor": 4
}
